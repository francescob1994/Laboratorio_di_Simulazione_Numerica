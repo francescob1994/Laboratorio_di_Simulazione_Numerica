{
 "cells": [
  {
   "cell_type": "markdown",
   "metadata": {},
   "source": [
    "# Lezione 3\n",
    "\n",
    "\n",
    "In questa lezione si vogliono prezzare delle opzioni europee Put e Call con il metodo Monte Carlo.\n",
    "\n",
    "Sia dato un asset price $S_t$ che realizza un moto browoninano geometrico partendo da $S_0=100$ con volatilità $\\sigma = 0.25$ e tasso di interesse privo di rischio $r=0.1$. Si vuole calcolare il prezzo di una Put  e di una Call su questo asset in $t=0$, con tempo di consegna $T=1$ e strike price $K=100$.\n",
    "Eseguiamo questo calcolo con due differenti campionamenti: un camiponamento diretto del prezzo $S_T$ e un campionemnto delle traiettorie del processo $S_t(\\omega)$ nell'intervallo $[0,T]$.\n",
    "\n",
    "## Campionamento diretto\n",
    "\n",
    "In questo caso viene generato un campione di $10^4$ realizzazioni della variabile aleatoria $S_T = S(0) \\exp\\left[ \\left(r-\\frac{1}{2}\\sigma^2\\right)t+\\sigma W_t\\right]$ con $W_t\\sim\\mathcal{N}(0,t)$.\n",
    "I prezzi delle Put e Call si ottengono calcolando le medie:\n",
    "$$\n",
    "P[S_0,0]&=< e^{-rT}\\max(0,K-S_T)> \n",
    "$$\n",
    "$$\n",
    "C[S_0,0]&=< e^{-rT}\\max(0,S_T-K)>.\n",
    "$$\n",
    "Suddividendo i campioni  in 100 blocchi, medie e incertezze sono state calcolate con il metodo datablock come nelle lezioni precedenti.\n",
    "\n",
    "Di seguito sono mostrati gli andamenti di $P[S_0,0]$ e $C[S_0,0]$ in funzione del numero di campionamenti messi a confronto con la soluzione analitica della formula di Black-Sholes."
   ]
  },
  {
   "cell_type": "code",
   "execution_count": null,
   "metadata": {},
   "outputs": [],
   "source": []
  }
 ],
 "metadata": {
  "kernelspec": {
   "display_name": "Python 3",
   "language": "python",
   "name": "python3"
  },
  "language_info": {
   "codemirror_mode": {
    "name": "ipython",
    "version": 3
   },
   "file_extension": ".py",
   "mimetype": "text/x-python",
   "name": "python",
   "nbconvert_exporter": "python",
   "pygments_lexer": "ipython3",
   "version": "3.6.8"
  }
 },
 "nbformat": 4,
 "nbformat_minor": 2
}
