{
 "cells": [
  {
   "cell_type": "markdown",
   "metadata": {},
   "source": [
    "# Lezione 10\n",
    "\n",
    "## Simulated Annealing"
   ]
  },
  {
   "cell_type": "markdown",
   "metadata": {},
   "source": [
    "In questa lezione ho modficato il codice della lezione precedente in modo da risolvere il TSP con un Simulated Annealing.\n",
    "\n",
    "Si stabilisce un set di valori di beta $\\{\\beta _1, \\cdots, \\beta _N\\}$ e un numero $N$ di generazioni per ciascun valore di $\\beta$. Ad ogni generazione si costruisce la successiva mediante un algoritmo Metropolis che utilizza la temperatura fittizia $1/\\beta$.\n",
    "\n",
    "### Algoritmo Metropolis\n",
    "\n",
    "L'algoritmo opera nel modo seguente:\n",
    "- siano $X$, $Y$ i genitori scelti con $l_{X} < l_{Y}$. Da questi si costruiscono i figli $XX$ e $YY$ con la funzione Crossover, come nel programma della lezione precedente;\n",
    "- considero il figlio $XX$. Se $l_{XX} < l_{X}$ accetto $XX$ nella popolazione della generazione successiva. Altrimenti lo accetto con probabilità $p=\\exp( -\\beta\\cdot l_{XX})/\\exp( -\\beta\\cdot l_{X})$. In caso di rigetto viene mantenuto il cromosoma $X$ nella nuova popolazione;\n",
    "- considero il filgio $YY$. Se $l_{YY} < l_{X}$ accetto $YY$ nella popolazione della generazione successiva.\n",
    "Altrimenti lo accetto con probabilità $p=\\exp( -\\beta\\cdot l_{XX})/\\exp( -\\beta\\cdot l_{X})$. In caso di rigetto se nel punto precedente ho accettato $XX$ ora aggiungo $X$ alla nuova popolazione, altrimenti aggiungo $YY$.\n"
   ]
  },
  {
   "cell_type": "markdown",
   "metadata": {},
   "source": [
    "### Risultati\n",
    "\n",
    "In questa lezione ho considerato le stesse configurazioni di città della lezione precedente. Per calcolare le lunghezze dei percorsi ho usato $L^{(1)}$ e per i fitness $f_2$. \n",
    "Di seguto l'andamento di\n",
    "\n",
    "\n",
    "\n",
    "\n"
   ]
  },
  {
   "cell_type": "code",
   "execution_count": null,
   "metadata": {},
   "outputs": [],
   "source": [
    "#SQUARE\n",
    "\n",
    "from IPython.display import Image\n",
    "i = Image(filename = '10_sq.png') #immagine ottenuta con gnuplot\n",
    "i"
   ]
  }
 ],
 "metadata": {
  "kernelspec": {
   "display_name": "Python 3",
   "language": "python",
   "name": "python3"
  },
  "language_info": {
   "codemirror_mode": {
    "name": "ipython",
    "version": 3
   },
   "file_extension": ".py",
   "mimetype": "text/x-python",
   "name": "python",
   "nbconvert_exporter": "python",
   "pygments_lexer": "ipython3",
   "version": "3.6.8"
  }
 },
 "nbformat": 4,
 "nbformat_minor": 2
}
